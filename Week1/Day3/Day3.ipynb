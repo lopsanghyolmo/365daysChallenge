{
 "cells": [
  {
   "cell_type": "markdown",
   "metadata": {},
   "source": [
    "Write a Python program which accepts the radius of a circle from the user and compute the area."
   ]
  },
  {
   "cell_type": "code",
   "execution_count": 2,
   "metadata": {},
   "outputs": [
    {
     "name": "stdout",
     "output_type": "stream",
     "text": [
      "Enter radius of a circle7\n",
      "Area of a circle is: 153.93804002589985\n"
     ]
    }
   ],
   "source": [
    "import math\n",
    "\n",
    "def area():\n",
    "    radius = int(input(\"Enter radius of a circle\"))\n",
    "    a = math.pi * math.pow(radius,2)\n",
    "    print(\"Area of a circle is:\",a)\n",
    "\n",
    "area()"
   ]
  },
  {
   "cell_type": "markdown",
   "metadata": {},
   "source": [
    " I used the function and math module to get the radius from user and finally compute the area of the circle."
   ]
  }
 ],
 "metadata": {
  "kernelspec": {
   "display_name": "Python 3",
   "language": "python",
   "name": "python3"
  },
  "language_info": {
   "codemirror_mode": {
    "name": "ipython",
    "version": 3
   },
   "file_extension": ".py",
   "mimetype": "text/x-python",
   "name": "python",
   "nbconvert_exporter": "python",
   "pygments_lexer": "ipython3",
   "version": "3.8.3"
  }
 },
 "nbformat": 4,
 "nbformat_minor": 4
}
