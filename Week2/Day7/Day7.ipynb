{
 "cells": [
  {
   "cell_type": "markdown",
   "metadata": {},
   "source": [
    "## Coding Exercises\n",
    "Source: https://programmingwithmosh.com/python/python-exercises-and-questions-for-beginners/"
   ]
  },
  {
   "cell_type": "markdown",
   "metadata": {},
   "source": [
    "6. Write a function called show_stars(rows). If rows is 5, it should print the following:\n",
    "<ul>\n",
    "    <li>*</li>\n",
    "    <li>**</li>\n",
    "    <li>***</li>\n",
    "    <li>****</li>\n",
    "    <li>*****</li>\n",
    "</ul>"
   ]
  },
  {
   "cell_type": "code",
   "execution_count": 30,
   "metadata": {},
   "outputs": [
    {
     "name": "stdout",
     "output_type": "stream",
     "text": [
      "* \n",
      "* * \n",
      "* * * \n",
      "* * * * \n",
      "* * * * * \n"
     ]
    }
   ],
   "source": [
    "def show_stars(rows):\n",
    "    for i in range(1, rows+1):\n",
    "        for j in range(i):\n",
    "            print('*', end=' ')\n",
    "        print()\n",
    "        \n",
    "show_stars(5)"
   ]
  },
  {
   "cell_type": "markdown",
   "metadata": {},
   "source": [
    "Here, I created function called show_stars that takes a paramter called rows. I used the nested for loops to get the desired output. "
   ]
  }
 ],
 "metadata": {
  "kernelspec": {
   "display_name": "Python 3",
   "language": "python",
   "name": "python3"
  },
  "language_info": {
   "codemirror_mode": {
    "name": "ipython",
    "version": 3
   },
   "file_extension": ".py",
   "mimetype": "text/x-python",
   "name": "python",
   "nbconvert_exporter": "python",
   "pygments_lexer": "ipython3",
   "version": "3.8.3"
  }
 },
 "nbformat": 4,
 "nbformat_minor": 4
}
