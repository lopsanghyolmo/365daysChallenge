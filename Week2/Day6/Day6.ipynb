{
 "cells": [
  {
   "cell_type": "markdown",
   "metadata": {},
   "source": [
    "## Coding Exercises\n",
    "Source: https://programmingwithmosh.com/python/python-exercises-and-questions-for-beginners/"
   ]
  },
  {
   "cell_type": "markdown",
   "metadata": {},
   "source": [
    "4. Write a function called showNumbers that takes a parameter called limit. It should print all the numbers between 0 and limit with a label to identify the even and odd numbers. For example, if the limit is 3, it should print:\n",
    "<ul>\n",
    "    <li>0 EVEN</li>\n",
    "    <li>1 ODD</li>\n",
    "    <li>2 EVEN</li>\n",
    "    <li>3 ODD</li>\n",
    "</ul>"
   ]
  },
  {
   "cell_type": "code",
   "execution_count": 1,
   "metadata": {},
   "outputs": [],
   "source": [
    "def showNumbers(limit):\n",
    "    for i in range(limit+1):\n",
    "        if(i % 2 == 0):\n",
    "            print(i, \" EVEN\")\n",
    "        else:\n",
    "            print(i, \" ODD\")\n",
    "\n",
    "showNumbers(11)"
   ]
  },
  {
   "cell_type": "markdown",
   "metadata": {},
   "source": [
    "Here, I created function called showNumbers that takes a paramter called limit. The function prints out all the values upto argument and identify wheather each number is even or odd number. "
   ]
  },
  {
   "cell_type": "markdown",
   "metadata": {},
   "source": [
    "5. Write a function that returns the sum of multiples of 3 and 5 between 0 and limit (parameter). For example, if limit is 20, it should return the sum of 3, 5, 6, 9, 10, 12, 15, 18, 20."
   ]
  },
  {
   "cell_type": "code",
   "execution_count": 5,
   "metadata": {},
   "outputs": [
    {
     "name": "stdout",
     "output_type": "stream",
     "text": [
      "98\n"
     ]
    }
   ],
   "source": [
    "s = 0\n",
    "\n",
    "def sum(limit):\n",
    "    for i in range(limit+1):\n",
    "        if(i % 3 == 0 or i % 5 == 0):\n",
    "            global s\n",
    "            s = s + i\n",
    "    print(s)\n",
    "        \n",
    "sum(20)"
   ]
  },
  {
   "cell_type": "markdown",
   "metadata": {},
   "source": [
    "Here, I created function named 'sum' with single parameter 'limit'.<br><br> If all the numbers are divisible by either 3 or 5, the function will print out the final sum of all the muliples of 3 and 5 between 0 and limit. <br><br>\n",
    "\n",
    "NOTE: I get to learn about global variable. By default, all the variables are local variables in Python. So, it is necessary to use the 'global' keyword to use the global value."
   ]
  }
 ],
 "metadata": {
  "kernelspec": {
   "display_name": "Python 3",
   "language": "python",
   "name": "python3"
  },
  "language_info": {
   "codemirror_mode": {
    "name": "ipython",
    "version": 3
   },
   "file_extension": ".py",
   "mimetype": "text/x-python",
   "name": "python",
   "nbconvert_exporter": "python",
   "pygments_lexer": "ipython3",
   "version": "3.8.3"
  }
 },
 "nbformat": 4,
 "nbformat_minor": 4
}
