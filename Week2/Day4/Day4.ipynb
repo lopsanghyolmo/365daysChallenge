{
 "cells": [
  {
   "cell_type": "markdown",
   "metadata": {},
   "source": [
    "## Coding Exercises\n",
    "Source: https://programmingwithmosh.com/python/python-exercises-and-questions-for-beginners/"
   ]
  },
  {
   "cell_type": "markdown",
   "metadata": {},
   "source": [
    "1. Write a function that returns the maximum of two numbers."
   ]
  },
  {
   "cell_type": "code",
   "execution_count": 1,
   "metadata": {},
   "outputs": [
    {
     "name": "stdout",
     "output_type": "stream",
     "text": [
      "Maximum number is 4\n"
     ]
    }
   ],
   "source": [
    "def maximum(a,b):\n",
    "    if(a>b):\n",
    "        print('Maximum number is', a)\n",
    "    else:\n",
    "        print('Maximum number is', b)\n",
    "        \n",
    "maximum(4,2)"
   ]
  },
  {
   "cell_type": "markdown",
   "metadata": {},
   "source": [
    "Here, I created function called maximum that will take two arguments number and prints out the max value among them. "
   ]
  },
  {
   "cell_type": "markdown",
   "metadata": {},
   "source": [
    "2. Write a function called fizz_buzz that takes a number.\n",
    "<ol>\n",
    "    <li>If the number is divisible by 3, it should return “Fizz”.</li>\n",
    "    <li>If it is divisible by 5, it should return “Buzz”.</li>\n",
    "    <li>If it is divisible by both 3 and 5, it should return “FizzBuzz”.</li>\n",
    "    <li>Otherwise, it should return the same number.</li>\n",
    "</ol>"
   ]
  },
  {
   "cell_type": "code",
   "execution_count": 2,
   "metadata": {},
   "outputs": [
    {
     "name": "stdout",
     "output_type": "stream",
     "text": [
      "FizzBuzz\n"
     ]
    }
   ],
   "source": [
    "def fizz_buzz(n):\n",
    "    if(n%3 == 0 and n%5 == 0):\n",
    "        print('FizzBuzz')\n",
    "    elif(n%3 == 0):\n",
    "        print('Fizz')\n",
    "    elif(n%5 == 0):\n",
    "        print('Buzz')\n",
    "    else:\n",
    "        print(n)\n",
    "        \n",
    "fizz_buzz(15)"
   ]
  },
  {
   "cell_type": "markdown",
   "metadata": {},
   "source": [
    "Here, I created function named 'fizz_buzz' with single parameter.<br><br> If the number is divisible by both 3 and 5, it will print 'FizzBuzz'. If the number is divisible b 3 only, it will print 'Fizz'. If the number is divisible by 5 only, it will print 'Buzz'. Finally, if any criterias do not meet, then will print the exact number.<br><br>\n",
    "We called the function with argument '15' and it prints out FizzBuzz since it is both divisible by both 3 and 5."
   ]
  },
  {
   "cell_type": "markdown",
   "metadata": {},
   "source": [
    "3. Write a function for checking the speed of drivers. This function should have one parameter: speed.\n",
    "<ol>\n",
    "    <li>If speed is less than 70, it should print “Ok”.</li>\n",
    "    <li>Otherwise, for every 5km above the speed limit (70), it should give the driver one demerit point and print the total number of demerit points. For example, if the speed is 80, it should print: “Points: 2”.</li>\n",
    "    <li>If the driver gets more than 12 points, the function should print: “License suspended”</li>\n",
    "</ol>"
   ]
  },
  {
   "cell_type": "code",
   "execution_count": 3,
   "metadata": {},
   "outputs": [
    {
     "name": "stdout",
     "output_type": "stream",
     "text": [
      "License suspended\n"
     ]
    }
   ],
   "source": [
    "def traffic(speed):\n",
    "    if(speed < 70):\n",
    "        print('Ok')\n",
    "    else:\n",
    "        points = (speed - 70) / 5\n",
    "        if(points < 12):\n",
    "            print('Points: ',points)\n",
    "        else:\n",
    "            print('License suspended')\n",
    "        \n",
    "traffic(820)"
   ]
  },
  {
   "cell_type": "markdown",
   "metadata": {},
   "source": [
    "Here, I created function named 'traffic' with single parameter 'speed'.<br><br> \n",
    "We called the function with argument '820' and it prints out 'License suspended' since the driver gets more than 12 points."
   ]
  }
 ],
 "metadata": {
  "kernelspec": {
   "display_name": "Python 3",
   "language": "python",
   "name": "python3"
  },
  "language_info": {
   "codemirror_mode": {
    "name": "ipython",
    "version": 3
   },
   "file_extension": ".py",
   "mimetype": "text/x-python",
   "name": "python",
   "nbconvert_exporter": "python",
   "pygments_lexer": "ipython3",
   "version": "3.8.3"
  }
 },
 "nbformat": 4,
 "nbformat_minor": 4
}
